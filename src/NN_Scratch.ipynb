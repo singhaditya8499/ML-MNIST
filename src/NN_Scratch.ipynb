{
 "cells": [
  {
   "cell_type": "code",
   "execution_count": 84,
   "id": "ac1caa5e",
   "metadata": {},
   "outputs": [],
   "source": [
    "import numpy as np\n",
    "import matplotlib.pyplot as plt\n",
    "import pandas as pd\n",
    "import math\n",
    "import scipy"
   ]
  },
  {
   "cell_type": "code",
   "execution_count": 85,
   "id": "b1bb4bb5",
   "metadata": {},
   "outputs": [],
   "source": [
    "train_data = pd.read_csv(\"../data/mnist_train.csv\")\n",
    "test_data = pd.read_csv(\"../data/mnist_test.csv\")"
   ]
  },
  {
   "cell_type": "code",
   "execution_count": 86,
   "id": "e191cb10",
   "metadata": {},
   "outputs": [],
   "source": [
    "train_data_y = train_data.label\n",
    "train_data_x = train_data.drop(columns=['label'])\n",
    "\n",
    "input_train_data_x = np.asfarray(train_data_x)/255.0\n",
    "input_train_data_x = np.array(input_train_data_x, ndmin=2).T\n",
    "input_train_data_y = np.zeros((train_data_y.shape[0], 10))\n",
    "input_train_data_y[np.arange(train_data_y.shape[0]), train_data_y] = 1\n",
    "input_train_data_y = np.array(input_train_data_y, ndmin=2).T"
   ]
  },
  {
   "cell_type": "code",
   "execution_count": 95,
   "id": "96337f13",
   "metadata": {},
   "outputs": [
    {
     "data": {
      "text/plain": [
       "(10, 60000)"
      ]
     },
     "execution_count": 95,
     "metadata": {},
     "output_type": "execute_result"
    }
   ],
   "source": [
    "input_train_data_y.shape"
   ]
  },
  {
   "cell_type": "code",
   "execution_count": 87,
   "id": "9db92f3c",
   "metadata": {},
   "outputs": [],
   "source": [
    "test_data_y = test_data.label\n",
    "test_data_x = test_data.drop(columns=['label'])\n",
    "\n",
    "input_test_data_x = np.asfarray(test_data_x)/255.0\n",
    "input_test_data_x = np.array(input_test_data_x, ndmin=2).T\n",
    "input_test_data_y = np.zeros((test_data_y.shape[0], 10))\n",
    "input_test_data_y[np.arange(test_data_y.shape[0]), test_data_y] = 1\n",
    "input_test_data_y = np.array(input_test_data_y, ndmin=2).T"
   ]
  },
  {
   "cell_type": "code",
   "execution_count": 88,
   "id": "1e754427",
   "metadata": {},
   "outputs": [
    {
     "data": {
      "text/plain": [
       "(784, 10000)"
      ]
     },
     "execution_count": 88,
     "metadata": {},
     "output_type": "execute_result"
    }
   ],
   "source": [
    "input_test_data_x.shape"
   ]
  },
  {
   "cell_type": "code",
   "execution_count": 128,
   "id": "1b62dccc",
   "metadata": {},
   "outputs": [],
   "source": [
    "def getAccuracy(actualLabels, predictedLabels):\n",
    "    predicted_digit = np.argmax(predictedLabels, axis=1)\n",
    "#     actual_digit = np.argmax(actualLabels, axis=1)\n",
    "    accuracy = np.mean(actualLabels == predicted_digit)\n",
    "    accuracy_percentage = accuracy * 100\n",
    "    return accuracy_percentage"
   ]
  },
  {
   "cell_type": "code",
   "execution_count": 176,
   "id": "d8b04e64",
   "metadata": {},
   "outputs": [],
   "source": [
    "class neuralNetwork:\n",
    "    def __init__(self, inputNodes=784, hiddenNodes1=512, hiddenNodes2=64, outputNodes=10, learningRate=0.00001, epochs=200):\n",
    "        rng = np.random.default_rng()\n",
    "        \n",
    "        self.inputNodes = inputNodes\n",
    "        self.outputNodes = outputNodes\n",
    "        self.hiddenNodes1 = hiddenNodes1\n",
    "        self.hiddenNodes2 = hiddenNodes2\n",
    "        self.lr = learningRate\n",
    "        self.epochs = epochs\n",
    "        \n",
    "        self.wih1 = np.random.normal(0.0, pow(self.inputNodes, -0.5), (self.hiddenNodes1, self.inputNodes))\n",
    "        self.wh1h2 = np.random.normal(0.0, pow(self.hiddenNodes1, -0.5), (hiddenNodes2, hiddenNodes1))\n",
    "        self.wh2o = np.random.normal(0.0, pow(self.hiddenNodes2, -0.5), (outputNodes, hiddenNodes2))\n",
    "        self.activationFunction = sigmoid\n",
    "        pass\n",
    "    \n",
    "    def sigmoid(x):\n",
    "        return 1 / (1 + np.exp(-x))\n",
    "    \n",
    "    def train(self, inputData, outputData):\n",
    "        for epoch in range(self.epochs):\n",
    "            inputHidden1 = np.dot(self.wih1, inputData)\n",
    "            outputHidden1 = self.activationFunction(inputHidden1)\n",
    "\n",
    "            inputHidden2 = np.dot(self.wh1h2, outputHidden1)\n",
    "            outputHidden2 = self.activationFunction(inputHidden2)\n",
    "\n",
    "            inputOutput = np.dot(self.wh2o, outputHidden2)\n",
    "            outputOutput = self.activationFunction(inputOutput)\n",
    "\n",
    "            outputError = outputData - outputOutput\n",
    "            hidden2Error = np.dot(self.wh2o.T, outputError)\n",
    "            hidden1Error = np.dot(self.wh1h2.T, hidden2Error)\n",
    "\n",
    "            self.wh2o += self.lr*np.dot((outputError*outputOutput*(1.0-outputOutput)), np.transpose(outputHidden2))\n",
    "            self.wh1h2 += self.lr*np.dot((hidden2Error*outputHidden2*(1.0-outputHidden2)), np.transpose(outputHidden1))\n",
    "            self.wih1 += self.lr*np.dot((hidden1Error*outputHidden1*(1.0-outputHidden1)), np.transpose(inputData))\n",
    "            if (epoch+1) % 5 == 0:\n",
    "                print(\"Epoch: \" + str(epoch+1))\n",
    "                print(\"Total loss for training data is: \", np.mean((outputData - outputOutput) ** 2), \" and accuracy is: \" + str(getAccuracy(train_data_y, outputOutput.T)))\n",
    "        \n",
    "        pass\n",
    "    \n",
    "    def predict(self, inputData):\n",
    "        inputHidden1 = np.dot(self.wih1, inputData)\n",
    "        outputHidden1 = self.activationFunction(inputHidden1)\n",
    "        \n",
    "        inputHidden2 = np.dot(self.wh1h2, outputHidden1)\n",
    "        outputHidden2 = self.activationFunction(inputHidden2)\n",
    "        \n",
    "        inputOutput = np.dot(self.wh2o, outputHidden2)\n",
    "        outputOutput = self.activationFunction(inputOutput)\n",
    "        \n",
    "        return outputOutput"
   ]
  },
  {
   "cell_type": "code",
   "execution_count": 177,
   "id": "995e4330",
   "metadata": {},
   "outputs": [],
   "source": [
    "n = neuralNetwork(epochs=200)"
   ]
  },
  {
   "cell_type": "code",
   "execution_count": 178,
   "id": "9aa08219",
   "metadata": {
    "scrolled": false
   },
   "outputs": [
    {
     "name": "stdout",
     "output_type": "stream",
     "text": [
      "Epoch: 5\n",
      "Total loss for training data is:  0.09012631878178431  and accuracy is: 10.441666666666666\n",
      "Epoch: 10\n",
      "Total loss for training data is:  0.08946199448018266  and accuracy is: 16.361666666666665\n",
      "Epoch: 15\n",
      "Total loss for training data is:  0.08899987856234784  and accuracy is: 26.321666666666665\n",
      "Epoch: 20\n",
      "Total loss for training data is:  0.08837824022395886  and accuracy is: 34.833333333333336\n",
      "Epoch: 25\n",
      "Total loss for training data is:  0.08757837356785095  and accuracy is: 40.39666666666666\n",
      "Epoch: 30\n",
      "Total loss for training data is:  0.08656809041287364  and accuracy is: 43.22166666666667\n",
      "Epoch: 35\n",
      "Total loss for training data is:  0.08529957034879707  and accuracy is: 44.745000000000005\n",
      "Epoch: 40\n",
      "Total loss for training data is:  0.08385684206522537  and accuracy is: 47.305\n",
      "Epoch: 45\n",
      "Total loss for training data is:  0.08220587111270773  and accuracy is: 49.265\n",
      "Epoch: 50\n",
      "Total loss for training data is:  0.08030865286033852  and accuracy is: 51.20666666666666\n",
      "Epoch: 55\n",
      "Total loss for training data is:  0.07826577005966547  and accuracy is: 53.251666666666665\n",
      "Epoch: 60\n",
      "Total loss for training data is:  0.07608412267492316  and accuracy is: 55.04833333333333\n",
      "Epoch: 65\n",
      "Total loss for training data is:  0.07387735710709034  and accuracy is: 56.391666666666666\n",
      "Epoch: 70\n",
      "Total loss for training data is:  0.07173277833185628  and accuracy is: 57.57333333333333\n",
      "Epoch: 75\n",
      "Total loss for training data is:  0.0696292751375365  and accuracy is: 58.875\n",
      "Epoch: 80\n",
      "Total loss for training data is:  0.06758398076976656  and accuracy is: 60.20166666666667\n",
      "Epoch: 85\n",
      "Total loss for training data is:  0.06561217811716594  and accuracy is: 61.39333333333333\n",
      "Epoch: 90\n",
      "Total loss for training data is:  0.06372242114723407  and accuracy is: 62.62\n",
      "Epoch: 95\n",
      "Total loss for training data is:  0.06191786265692817  and accuracy is: 63.90166666666667\n",
      "Epoch: 100\n",
      "Total loss for training data is:  0.06019806281207425  and accuracy is: 65.08833333333334\n",
      "Epoch: 105\n",
      "Total loss for training data is:  0.058560344906410634  and accuracy is: 66.34666666666666\n",
      "Epoch: 110\n",
      "Total loss for training data is:  0.057000636299955346  and accuracy is: 67.61\n",
      "Epoch: 115\n",
      "Total loss for training data is:  0.05551414106621648  and accuracy is: 68.84\n",
      "Epoch: 120\n",
      "Total loss for training data is:  0.05409602265120621  and accuracy is: 70.12\n",
      "Epoch: 125\n",
      "Total loss for training data is:  0.052741746077388095  and accuracy is: 71.37666666666667\n",
      "Epoch: 130\n",
      "Total loss for training data is:  0.05144697493629484  and accuracy is: 72.655\n",
      "Epoch: 135\n",
      "Total loss for training data is:  0.050207515194406756  and accuracy is: 73.83\n",
      "Epoch: 140\n",
      "Total loss for training data is:  0.04901944165353939  and accuracy is: 75.00666666666666\n",
      "Epoch: 145\n",
      "Total loss for training data is:  0.04787920348440669  and accuracy is: 76.06166666666667\n",
      "Epoch: 150\n",
      "Total loss for training data is:  0.04678365294892078  and accuracy is: 77.08666666666667\n",
      "Epoch: 155\n",
      "Total loss for training data is:  0.045730035824346524  and accuracy is: 78.01166666666667\n",
      "Epoch: 160\n",
      "Total loss for training data is:  0.044715961614844035  and accuracy is: 78.81333333333333\n",
      "Epoch: 165\n",
      "Total loss for training data is:  0.04373935266442948  and accuracy is: 79.60000000000001\n",
      "Epoch: 170\n",
      "Total loss for training data is:  0.04279837173336346  and accuracy is: 80.28\n",
      "Epoch: 175\n",
      "Total loss for training data is:  0.041891332537468365  and accuracy is: 80.93666666666667\n",
      "Epoch: 180\n",
      "Total loss for training data is:  0.04101660018211949  and accuracy is: 81.51833333333333\n",
      "Epoch: 185\n",
      "Total loss for training data is:  0.04017249095347841  and accuracy is: 82.03666666666666\n",
      "Epoch: 190\n",
      "Total loss for training data is:  0.03935720344121961  and accuracy is: 82.45\n",
      "Epoch: 195\n",
      "Total loss for training data is:  0.03856891233403166  and accuracy is: 82.82833333333333\n",
      "Epoch: 200\n",
      "Total loss for training data is:  0.0378063439320548  and accuracy is: 83.20166666666667\n"
     ]
    }
   ],
   "source": [
    "n.train(input_train_data_x, input_train_data_y)"
   ]
  },
  {
   "cell_type": "code",
   "execution_count": 179,
   "id": "0d8efee9",
   "metadata": {},
   "outputs": [
    {
     "data": {
      "text/plain": [
       "(10, 10000)"
      ]
     },
     "execution_count": 179,
     "metadata": {},
     "output_type": "execute_result"
    }
   ],
   "source": [
    "predicted = n.predict(input_test_data_x)\n",
    "predicted.shape"
   ]
  },
  {
   "cell_type": "code",
   "execution_count": 180,
   "id": "231ce921",
   "metadata": {},
   "outputs": [
    {
     "data": {
      "text/plain": [
       "84.2"
      ]
     },
     "execution_count": 180,
     "metadata": {},
     "output_type": "execute_result"
    }
   ],
   "source": [
    "getAccuracy(test_data_y, predicted.T)"
   ]
  },
  {
   "cell_type": "code",
   "execution_count": null,
   "id": "e7a95a5d",
   "metadata": {},
   "outputs": [],
   "source": []
  }
 ],
 "metadata": {
  "kernelspec": {
   "display_name": "Python 3 (ipykernel)",
   "language": "python",
   "name": "python3"
  },
  "language_info": {
   "codemirror_mode": {
    "name": "ipython",
    "version": 3
   },
   "file_extension": ".py",
   "mimetype": "text/x-python",
   "name": "python",
   "nbconvert_exporter": "python",
   "pygments_lexer": "ipython3",
   "version": "3.9.7"
  }
 },
 "nbformat": 4,
 "nbformat_minor": 5
}
